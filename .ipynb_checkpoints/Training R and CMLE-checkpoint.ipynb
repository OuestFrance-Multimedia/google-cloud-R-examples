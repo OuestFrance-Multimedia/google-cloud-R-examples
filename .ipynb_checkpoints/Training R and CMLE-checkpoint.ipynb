{
 "cells": [
  {
   "cell_type": "markdown",
   "metadata": {},
   "source": [
    "# Training with ML Engine and Custom Containers"
   ]
  },
  {
   "cell_type": "markdown",
   "metadata": {},
   "source": [
    "**Test Training App Locally**"
   ]
  },
  {
   "cell_type": "code",
   "execution_count": null,
   "metadata": {},
   "outputs": [],
   "source": [
    "%%bash\n",
    "export STORAGE_BUCKET=your-storage-bucket\n",
    "export LIBS=~/libs\n",
    "Rscript ./trainer/installPackages.R\n",
    "Rscript ./trainer/trainer.R \\\n",
    "  --gcs_train_data gs://$STORAGE_BUCKET/train_data_small.csv \\\n",
    "  --gcs_export_dir gs://$STORAGE_BUCKET/$(date +%Y%m%d_%H%M%S)"
   ]
  },
  {
   "cell_type": "markdown",
   "metadata": {},
   "source": [
    "**Test inference locally**"
   ]
  },
  {
   "cell_type": "code",
   "execution_count": null,
   "metadata": {},
   "outputs": [],
   "source": [
    "%load_ext rpy2.ipython"
   ]
  },
  {
   "cell_type": "code",
   "execution_count": null,
   "metadata": {},
   "outputs": [],
   "source": [
    "%%R\n",
    ".libPaths(\"~/libs\")\n",
    "library(glmnet)\n",
    "library(caret)\n",
    "\n",
    "test <- data.frame(\n",
    "            is_male = 1, \n",
    "            child_race = 1,  \n",
    "            mother_age = 40, \n",
    "            father_age = 44, \n",
    "            gestation_weeks = 39\n",
    "        )\n",
    "\n",
    "# center and scale data\n",
    "preproc <- readRDS(\"/tmp/preproc.rds\")\n",
    "test[,1:5] <- sapply(test[,1:5], as.numeric)\n",
    "test_preproc <- predict(preproc, test)\n",
    "\n",
    "# set factor data types\n",
    "test_preproc[, c(\"is_male\", \"child_race\")] <- sapply(test_preproc[, c(\"is_male\", \"child_race\")] , as.factor)\n",
    "\n",
    "# load model\n",
    "model <- readRDS(\"/tmp/model.rds\")\n",
    "# inverse of log transform\n",
    "exp(predict(model, test_preproc))"
   ]
  },
  {
   "cell_type": "markdown",
   "metadata": {},
   "source": [
    "**Build Docker Image**"
   ]
  },
  {
   "cell_type": "code",
   "execution_count": null,
   "metadata": {},
   "outputs": [],
   "source": [
    "%%bash\n",
    "cd trainer\n",
    "export PROJECT_ID=$(gcloud config get-value project)\n",
    "export IMAGE_URI=gcr.io/$PROJECT_ID/r_cmle_container_image:glmnet\n",
    "\n",
    "docker build -f DOCKERFILE -t $IMAGE_URI ./"
   ]
  },
  {
   "cell_type": "markdown",
   "metadata": {},
   "source": [
    "**Push Image to Container Registry**"
   ]
  },
  {
   "cell_type": "code",
   "execution_count": null,
   "metadata": {},
   "outputs": [],
   "source": [
    "%%bash\n",
    "export PROJECT_ID=$(gcloud config get-value project)\n",
    "export IMAGE_URI=gcr.io/$PROJECT_ID/r_cmle_container_image:glmnet\n",
    "    \n",
    "gcloud auth configure-docker\n",
    "docker push $IMAGE_URI"
   ]
  },
  {
   "cell_type": "markdown",
   "metadata": {},
   "source": [
    "**Kick off ML Engine Training Job**"
   ]
  },
  {
   "cell_type": "code",
   "execution_count": null,
   "metadata": {},
   "outputs": [],
   "source": [
    "%%bash\n",
    "export PROJECT_ID=$(gcloud config get-value project)\n",
    "export IMAGE_URI=gcr.io/$PROJECT_ID/r_cmle_container_image:glmnet\n",
    "export REGION=us-central1\n",
    "export JOB_NAME=R_custom_container_job_$(date +%Y%m%d_%H%M%S)\n",
    "export STORAGE_BUCKET=my-storage-bucket\n",
    "\n",
    "gcloud beta ml-engine jobs submit training $JOB_NAME \\\n",
    "  --region $REGION \\\n",
    "  --master-image-uri $IMAGE_URI \\\n",
    "  --scale-tier custom \\\n",
    "  --master-machine-type n1-standard-8 \\\n",
    "  -- \\\n",
    "  --gcs_train_data gs://$STORAGE_BUCKET/train_data.csv \\\n",
    "  --gcs_export_dir gs://$STORAGE_BUCKET/$(date +%Y%m%d_%H%M%S)"
   ]
  },
  {
   "cell_type": "code",
   "execution_count": null,
   "metadata": {},
   "outputs": [],
   "source": []
  }
 ],
 "metadata": {
  "kernelspec": {
   "display_name": "Python 3",
   "language": "python",
   "name": "python3"
  },
  "language_info": {
   "codemirror_mode": {
    "name": "ipython",
    "version": 3
   },
   "file_extension": ".py",
   "mimetype": "text/x-python",
   "name": "python",
   "nbconvert_exporter": "python",
   "pygments_lexer": "ipython3",
   "version": "3.7.1"
  }
 },
 "nbformat": 4,
 "nbformat_minor": 2
}
