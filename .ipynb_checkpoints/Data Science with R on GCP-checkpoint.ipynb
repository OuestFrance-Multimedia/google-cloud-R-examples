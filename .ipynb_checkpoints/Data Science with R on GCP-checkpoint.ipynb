{
 "cells": [
  {
   "cell_type": "markdown",
   "metadata": {},
   "source": [
    "**Enable R by Installing rpy2 with Conda**"
   ]
  },
  {
   "cell_type": "code",
   "execution_count": null,
   "metadata": {},
   "outputs": [
    {
     "name": "stdout",
     "output_type": "stream",
     "text": [
      "WARNING: The conda.compat module is deprecated and will be removed in a future release.\n",
      "Collecting package metadata: done\n",
      "Solving environment: / \n",
      "The environment is inconsistent, please check the package plan carefully\n",
      "The following packages are causing the inconsistency:\n",
      "\n",
      "  - defaults/linux-64::spyder-kernels==0.3.0=py37_0\n",
      "  - defaults/linux-64::anaconda==2018.12=py37_0\n",
      "  - defaults/linux-64::nb_conda_kernels==2.2.0=py37_1\n",
      "  - defaults/linux-64::dask==1.0.0=py37_0\n",
      "  - defaults/linux-64::spyder==3.3.2=py37_0\n",
      "  - defaults/linux-64::qtconsole==4.4.3=py37_0\n",
      "  - defaults/linux-64::_ipyw_jlab_nb_ext_conf==0.1.0=py37_0\n",
      "  - defaults/linux-64::jupyter_console==6.0.0=py37_0\n",
      "  - defaults/linux-64::jupyterlab==0.35.3=py37_0\n",
      "  - defaults/linux-64::nb_conda==2.2.1=py37_0\n",
      "  - defaults/linux-64::jupyterlab_server==0.2.0=py37_0\n",
      "  - defaults/linux-64::distributed==1.25.1=py37_0\n",
      "  - defaults/linux-64::notebook==5.7.4=py37_0\n",
      "  - defaults/linux-64::ipython==7.2.0=py37h39e3cac_0\n",
      "  - defaults/linux-64::nbpresent==3.0.2=py37_1\n",
      "  - defaults/linux-64::jupyter==1.0.0=py37_7\n",
      "  - defaults/linux-64::blaze==0.11.3=py37_0\n",
      "  - defaults/linux-64::odo==0.5.1=py37_0\n",
      "done\n",
      "\n",
      "## Package Plan ##\n",
      "\n",
      "  environment location: /opt/anaconda3\n",
      "\n",
      "  added / updated specs:\n",
      "    - rpy2\n",
      "\n",
      "\n",
      "The following packages will be downloaded:\n",
      "\n",
      "    package                    |            build\n",
      "    ---------------------------|-----------------\n",
      "    _r-mutex-1.0.0             |      anacondar_1           2 KB\n",
      "    binutils_impl_linux-64-2.31.1|       h6176602_1        16.5 MB\n",
      "    binutils_linux-64-2.31.1   |       h6176602_6          10 KB\n",
      "    bwidget-1.9.11             |                1         113 KB\n",
      "    gcc_impl_linux-64-7.3.0    |       habb00fd_1        73.2 MB\n",
      "    gcc_linux-64-7.3.0         |       h553295d_6          10 KB\n",
      "    gfortran_impl_linux-64-7.3.0|       hdf63c60_1         9.0 MB\n",
      "    gfortran_linux-64-7.3.0    |       h553295d_6          10 KB\n",
      "    gsl-2.4                    |       h14c3975_4         2.6 MB\n",
      "    gxx_impl_linux-64-7.3.0    |       hdf63c60_1        18.7 MB\n",
      "    gxx_linux-64-7.3.0         |       h553295d_6          10 KB\n",
      "    make-4.2.1                 |       h1bed415_1         429 KB\n",
      "    r-assertthat-0.2.0         |   r350h912f1d8_0          57 KB\n",
      "    r-base-3.5.0               |       h1e0a451_1        39.8 MB\n",
      "    r-bh-1.66.0_1              |   r350h912f1d8_0        10.0 MB\n",
      "    r-bindr-0.1.1              |   r350h912f1d8_0          20 KB\n",
      "    r-bindrcpp-0.2.2           |   r350hebe7666_0          93 KB\n",
      "    r-bit-1.1_12               |   r350hb353451_0         228 KB\n",
      "    r-bit64-0.9_7              |   r350hb353451_0         473 KB\n",
      "    r-blob-1.1.1               |   r350h912f1d8_0          27 KB\n",
      "    r-cli-1.0.0                |   r350h912f1d8_0         323 KB\n",
      "    r-crayon-1.3.4             |   r350h912f1d8_0         745 KB\n",
      "    r-dbi-0.8                  |   r350h912f1d8_0         822 KB\n",
      "    r-dbplyr-1.2.1             |   r350h912f1d8_0         530 KB\n",
      "    r-digest-0.6.15            |   r350hb353451_0         149 KB\n",
      "    r-dplyr-0.7.4              |   r350hebe7666_0         1.7 MB\n",
      "    r-glue-1.2.0               |   r350hb353451_0          62 KB\n",
      "    r-magrittr-1.5             |   r350h912f1d8_4         165 KB\n",
      "    r-memoise-1.1.0            |   r350h912f1d8_0          40 KB\n",
      "    r-pillar-1.2.1             |   r350h912f1d8_0         143 KB\n",
      "    r-pkgconfig-2.0.1          |   r350h912f1d8_0          23 KB\n",
      "    r-plogr-0.2.0              |   r350h912f1d8_0          18 KB\n",
      "    r-prettyunits-1.0.2        |   r350h912f1d8_0          34 KB\n",
      "    r-purrr-0.2.4              |   r350hb353451_0         278 KB\n",
      "    r-r6-2.2.2                 |   r350h912f1d8_0         275 KB\n",
      "    r-rcpp-0.12.16             |   r350hebe7666_0         3.4 MB\n",
      "    r-rlang-0.2.0              |   r350hb353451_0         773 KB\n",
      "    r-rsqlite-2.1.0            |   r350hebe7666_0         986 KB\n",
      "    r-tibble-1.4.2             |   r350hb353451_0         228 KB\n",
      "    r-tidyselect-0.2.4         |   r350hebe7666_0         124 KB\n",
      "    r-utf8-1.1.3               |   r350hb353451_0         157 KB\n",
      "    rpy2-2.9.1                 |py37r350h035aef0_0         268 KB\n",
      "    tktable-2.10               |       h14c3975_0          88 KB\n",
      "    ------------------------------------------------------------\n",
      "                                           Total:       182.4 MB\n",
      "\n",
      "The following NEW packages will be INSTALLED:\n",
      "\n",
      "  _r-mutex           pkgs/r/linux-64::_r-mutex-1.0.0-anacondar_1\n",
      "  binutils_impl_lin~ pkgs/main/linux-64::binutils_impl_linux-64-2.31.1-h6176602_1\n",
      "  binutils_linux-64  pkgs/main/linux-64::binutils_linux-64-2.31.1-h6176602_6\n",
      "  bwidget            pkgs/main/linux-64::bwidget-1.9.11-1\n",
      "  gcc_impl_linux-64  pkgs/main/linux-64::gcc_impl_linux-64-7.3.0-habb00fd_1\n",
      "  gcc_linux-64       pkgs/main/linux-64::gcc_linux-64-7.3.0-h553295d_6\n",
      "  gfortran_impl_lin~ pkgs/main/linux-64::gfortran_impl_linux-64-7.3.0-hdf63c60_1\n",
      "  gfortran_linux-64  pkgs/main/linux-64::gfortran_linux-64-7.3.0-h553295d_6\n",
      "  gsl                pkgs/main/linux-64::gsl-2.4-h14c3975_4\n",
      "  gxx_impl_linux-64  pkgs/main/linux-64::gxx_impl_linux-64-7.3.0-hdf63c60_1\n",
      "  gxx_linux-64       pkgs/main/linux-64::gxx_linux-64-7.3.0-h553295d_6\n",
      "  make               pkgs/main/linux-64::make-4.2.1-h1bed415_1\n",
      "  r-assertthat       pkgs/r/linux-64::r-assertthat-0.2.0-r350h912f1d8_0\n",
      "  r-base             pkgs/r/linux-64::r-base-3.5.0-h1e0a451_1\n",
      "  r-bh               pkgs/r/linux-64::r-bh-1.66.0_1-r350h912f1d8_0\n",
      "  r-bindr            pkgs/r/linux-64::r-bindr-0.1.1-r350h912f1d8_0\n",
      "  r-bindrcpp         pkgs/r/linux-64::r-bindrcpp-0.2.2-r350hebe7666_0\n",
      "  r-bit              pkgs/r/linux-64::r-bit-1.1_12-r350hb353451_0\n",
      "  r-bit64            pkgs/r/linux-64::r-bit64-0.9_7-r350hb353451_0\n",
      "  r-blob             pkgs/r/linux-64::r-blob-1.1.1-r350h912f1d8_0\n",
      "  r-cli              pkgs/r/linux-64::r-cli-1.0.0-r350h912f1d8_0\n",
      "  r-crayon           pkgs/r/linux-64::r-crayon-1.3.4-r350h912f1d8_0\n",
      "  r-dbi              pkgs/r/linux-64::r-dbi-0.8-r350h912f1d8_0\n",
      "  r-dbplyr           pkgs/r/linux-64::r-dbplyr-1.2.1-r350h912f1d8_0\n",
      "  r-digest           pkgs/r/linux-64::r-digest-0.6.15-r350hb353451_0\n",
      "  r-dplyr            pkgs/r/linux-64::r-dplyr-0.7.4-r350hebe7666_0\n",
      "  r-glue             pkgs/r/linux-64::r-glue-1.2.0-r350hb353451_0\n",
      "  r-magrittr         pkgs/r/linux-64::r-magrittr-1.5-r350h912f1d8_4\n",
      "  r-memoise          pkgs/r/linux-64::r-memoise-1.1.0-r350h912f1d8_0\n",
      "  r-pillar           pkgs/r/linux-64::r-pillar-1.2.1-r350h912f1d8_0\n",
      "  r-pkgconfig        pkgs/r/linux-64::r-pkgconfig-2.0.1-r350h912f1d8_0\n",
      "  r-plogr            pkgs/r/linux-64::r-plogr-0.2.0-r350h912f1d8_0\n",
      "  r-prettyunits      pkgs/r/linux-64::r-prettyunits-1.0.2-r350h912f1d8_0\n",
      "  r-purrr            pkgs/r/linux-64::r-purrr-0.2.4-r350hb353451_0\n",
      "  r-r6               pkgs/r/linux-64::r-r6-2.2.2-r350h912f1d8_0\n",
      "  r-rcpp             pkgs/r/linux-64::r-rcpp-0.12.16-r350hebe7666_0\n",
      "  r-rlang            pkgs/r/linux-64::r-rlang-0.2.0-r350hb353451_0\n",
      "  r-rsqlite          pkgs/r/linux-64::r-rsqlite-2.1.0-r350hebe7666_0\n",
      "  r-tibble           pkgs/r/linux-64::r-tibble-1.4.2-r350hb353451_0\n",
      "  r-tidyselect       pkgs/r/linux-64::r-tidyselect-0.2.4-r350hebe7666_0\n",
      "  r-utf8             pkgs/r/linux-64::r-utf8-1.1.3-r350hb353451_0\n",
      "  rpy2               pkgs/main/linux-64::rpy2-2.9.1-py37r350h035aef0_0\n",
      "  tktable            pkgs/main/linux-64::tktable-2.10-h14c3975_0\n",
      "\n",
      "\n",
      "Proceed ([y]/n)? "
     ]
    }
   ],
   "source": [
    "!conda install -y rpy2"
   ]
  },
  {
   "cell_type": "markdown",
   "metadata": {},
   "source": [
    "**Load the R Extension for iPython**"
   ]
  },
  {
   "cell_type": "code",
   "execution_count": null,
   "metadata": {},
   "outputs": [],
   "source": [
    "%load_ext rpy2.ipython"
   ]
  },
  {
   "cell_type": "markdown",
   "metadata": {},
   "source": [
    "**Keep Track of R Dependencies in Your Home Folder**"
   ]
  },
  {
   "cell_type": "code",
   "execution_count": null,
   "metadata": {},
   "outputs": [],
   "source": [
    "!mkdir ~/libs"
   ]
  },
  {
   "cell_type": "code",
   "execution_count": null,
   "metadata": {},
   "outputs": [],
   "source": [
    "%%R\n",
    "options(repos = \"http://cran.us.r-project.org\")\n",
    ".libPaths(\"~/libs\")\n",
    "install.packages(\"dplyr\", quiet=TRUE)"
   ]
  },
  {
   "cell_type": "markdown",
   "metadata": {},
   "source": [
    "**Sample Data from BigQuery**"
   ]
  },
  {
   "cell_type": "code",
   "execution_count": 17,
   "metadata": {},
   "outputs": [],
   "source": [
    "%%bigquery babyweight\n",
    "SELECT \n",
    "  weight_pounds as y, \n",
    "  CASE \n",
    "    WHEN is_male = true THEN 1\n",
    "    WHEN is_male = false THEN 0\n",
    "    ELSE NULL \n",
    "    END as is_male, \n",
    "  child_race, \n",
    "  mother_age, \n",
    "  father_age,\n",
    "  gestation_weeks\n",
    "FROM `bigquery-public-data.samples.natality`\n",
    "WHERE weight_pounds IS NOT NULL AND RAND() < 0.0005"
   ]
  },
  {
   "cell_type": "code",
   "execution_count": null,
   "metadata": {},
   "outputs": [],
   "source": [
    "%%R -i babyweight\n",
    "str(babyweight)"
   ]
  },
  {
   "cell_type": "markdown",
   "metadata": {},
   "source": [
    "**Fit a Linear Regression Model Using R**"
   ]
  },
  {
   "cell_type": "code",
   "execution_count": null,
   "metadata": {},
   "outputs": [],
   "source": [
    "%%R -i babyweight\n",
    "mod <- lm(y ~ ., data = babyweight)\n",
    "summary(mod)"
   ]
  },
  {
   "cell_type": "code",
   "execution_count": null,
   "metadata": {},
   "outputs": [],
   "source": []
  }
 ],
 "metadata": {
  "kernelspec": {
   "display_name": "Python 3",
   "language": "python",
   "name": "python3"
  },
  "language_info": {
   "codemirror_mode": {
    "name": "ipython",
    "version": 3
   },
   "file_extension": ".py",
   "mimetype": "text/x-python",
   "name": "python",
   "nbconvert_exporter": "python",
   "pygments_lexer": "ipython3",
   "version": "3.7.1"
  }
 },
 "nbformat": 4,
 "nbformat_minor": 2
}
