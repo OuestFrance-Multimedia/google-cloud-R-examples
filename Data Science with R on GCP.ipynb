{
 "cells": [
  {
   "cell_type": "markdown",
   "metadata": {},
   "source": [
    "**Enable R by Installing rpy2 with Conda**"
   ]
  },
  {
   "cell_type": "code",
   "execution_count": 2,
   "metadata": {},
   "outputs": [
    {
     "name": "stdout",
     "output_type": "stream",
     "text": [
      "Collecting package metadata: done\n",
      "Solving environment: - \n",
      "The environment is inconsistent, please check the package plan carefully\n",
      "The following packages are causing the inconsistency:\n",
      "\n",
      "  - fastai/linux-64::thinc==6.12.1=py37h637b7d7_1000\n",
      "  - defaults/linux-64::pytest-doctestplus==0.3.0=py37_0\n",
      "  - defaults/linux-64::jupyter_client==5.2.4=py37_0\n",
      "  - defaults/linux-64::html5lib==1.0.1=py37_0\n",
      "  - defaults/linux-64::ipywidgets==7.4.2=py37_0\n",
      "  - defaults/linux-64::pyopenssl==19.0.0=py37_0\n",
      "  - defaults/linux-64::bleach==3.1.0=py37_0\n",
      "  - defaults/linux-64::spyder-kernels==0.4.2=py37_0\n",
      "  - defaults/linux-64::h5py==2.9.0=py37h7918eee_0\n",
      "  - defaults/linux-64::singledispatch==3.4.0.3=py37_0\n",
      "  - defaults/linux-64::cryptography==2.6.1=py37h1ba5d50_0\n",
      "  - defaults/linux-64::ipython==7.4.0=py37h39e3cac_0\n",
      "  - defaults/linux-64::multipledispatch==0.6.0=py37_0\n",
      "  - defaults/linux-64::nb_conda_kernels==2.2.1=py37_0\n",
      "  - defaults/linux-64::terminado==0.8.1=py37_1\n",
      "  - defaults/linux-64::pytest-remotedata==0.3.1=py37_0\n",
      "  - defaults/linux-64::astroid==2.2.5=py37_0\n",
      "  - defaults/linux-64::pyrsistent==0.14.11=py37h7b6447c_0\n",
      "  - defaults/linux-64::qtawesome==0.5.7=py37_1\n",
      "  - fastai/linux-64::spacy==2.0.18=py37hf484d3e_1000\n",
      "  - defaults/linux-64::traitlets==4.3.2=py37_0\n",
      "  - defaults/linux-64::pytest-astropy==0.5.0=py37_0\n",
      "  - defaults/linux-64::pytest-arraydiff==0.3=py37h39e3cac_0\n",
      "  - defaults/linux-64::distributed==1.26.0=py37_1\n",
      "  - defaults/linux-64::conda==4.6.14=py37_0\n",
      "  - defaults/linux-64::jupyter==1.0.0=py37_7\n",
      "  - defaults/linux-64::nbpresent==3.0.2=py37_1\n",
      "  - defaults/linux-64::numpydoc==0.8.0=py37_0\n",
      "  - defaults/linux-64::bokeh==1.0.4=py37_0\n",
      "  - defaults/linux-64::spyder==3.3.3=py37_0\n",
      "  - defaults/linux-64::ipykernel==5.1.0=py37h39e3cac_0\n",
      "  - defaults/linux-64::statsmodels==0.9.0=py37h035aef0_0\n",
      "  - pytorch/noarch::torchvision==0.2.2=py_3\n",
      "  - defaults/linux-64::jsonschema==3.0.1=py37_0\n",
      "  - defaults/linux-64::patsy==0.5.1=py37_0\n",
      "  - defaults/linux-64::python-dateutil==2.8.0=py37_0\n",
      "  - fastai/noarch::fastai==1.0.52=1\n",
      "  - defaults/linux-64::qtconsole==4.4.3=py37_0\n",
      "  - defaults/linux-64::dask==1.1.4=py37_1\n",
      "  - defaults/linux-64::bkcharts==0.2=py37_0\n",
      "  - defaults/linux-64::widgetsnbextension==3.4.2=py37_0\n",
      "  - defaults/linux-64::pytest-openfiles==0.3.2=py37_0\n",
      "  - defaults/linux-64::jupyterlab_server==0.2.0=py37_0\n",
      "  - defaults/linux-64::seaborn==0.9.0=py37_0\n",
      "  - defaults/linux-64::nbconvert==5.4.1=py37_3\n",
      "  - defaults/linux-64::pathlib2==2.3.3=py37_0\n",
      "  - defaults/linux-64::packaging==19.0=py37_0\n",
      "  - defaults/linux-64::jupyter_console==6.0.0=py37_0\n",
      "  - defaults/linux-64::sphinx==1.8.5=py37_0\n",
      "  - defaults/linux-64::cycler==0.10.0=py37_0\n",
      "  - defaults/linux-64::secretstorage==3.1.1=py37_0\n",
      "  - defaults/linux-64::pylint==2.3.1=py37_0\n",
      "  - defaults/linux-64::nb_conda==2.2.1=py37_0\n",
      "  - defaults/linux-64::astropy==3.1.2=py37h7b6447c_0\n",
      "  - defaults/linux-64::notebook==5.7.8=py37_0\n",
      "  - defaults/linux-64::urllib3==1.24.1=py37_0\n",
      "  - defaults/linux-64::nbformat==4.4.0=py37_0\n",
      "  - defaults/linux-64::scikit-image==0.14.2=py37he6710b0_0\n",
      "  - defaults/linux-64::anaconda-client==1.7.2=py37_0\n",
      "  - defaults/linux-64::keyring==18.0.0=py37_0\n",
      "  - defaults/linux-64::prompt_toolkit==2.0.9=py37_0\n",
      "  - defaults/linux-64::pandas==0.24.2=py37he6710b0_0\n",
      "  - defaults/linux-64::pytables==3.5.1=py37h71ec239_0\n",
      "  - defaults/linux-64::matplotlib==3.0.3=py37h5429711_0\n",
      "  - defaults/linux-64::requests==2.21.0=py37_0\n",
      "  - defaults/linux-64::jupyterlab==0.35.4=py37hf63ae98_0\n",
      "  - defaults/linux-64::anaconda-project==0.8.2=py37_0\n",
      "  - defaults/linux-64::pytest==4.3.1=py37_0\n",
      "  - defaults/linux-64::jupyter_core==4.4.0=py37_0\n",
      "  - defaults/linux-64::nltk==3.4=py37_1\n",
      "done\n",
      "\n",
      "## Package Plan ##\n",
      "\n",
      "  environment location: /opt/anaconda3\n",
      "\n",
      "  added / updated specs:\n",
      "    - rpy2\n",
      "\n",
      "\n",
      "The following packages will be downloaded:\n",
      "\n",
      "    package                    |            build\n",
      "    ---------------------------|-----------------\n",
      "    _r-mutex-1.0.0             |      anacondar_1           2 KB\n",
      "    binutils_impl_linux-64-2.31.1|       h6176602_1        16.5 MB\n",
      "    binutils_linux-64-2.31.1   |       h6176602_7           9 KB\n",
      "    bwidget-1.9.11             |                1         113 KB\n",
      "    gcc_impl_linux-64-7.3.0    |       habb00fd_1        73.2 MB\n",
      "    gcc_linux-64-7.3.0         |       h553295d_7          10 KB\n",
      "    gfortran_impl_linux-64-7.3.0|       hdf63c60_1         9.0 MB\n",
      "    gfortran_linux-64-7.3.0    |       h553295d_7          10 KB\n",
      "    gsl-2.4                    |       h14c3975_4         2.6 MB\n",
      "    gxx_impl_linux-64-7.3.0    |       hdf63c60_1        18.7 MB\n",
      "    gxx_linux-64-7.3.0         |       h553295d_7          10 KB\n",
      "    make-4.2.1                 |       h1bed415_1         429 KB\n",
      "    r-assertthat-0.2.0         |   r350h912f1d8_0          57 KB\n",
      "    r-base-3.5.0               |       h1e0a451_1        39.8 MB\n",
      "    r-bh-1.66.0_1              |   r350h912f1d8_0        10.0 MB\n",
      "    r-bindr-0.1.1              |   r350h912f1d8_0          20 KB\n",
      "    r-bindrcpp-0.2.2           |   r350hebe7666_0          93 KB\n",
      "    r-bit-1.1_12               |   r350hb353451_0         228 KB\n",
      "    r-bit64-0.9_7              |   r350hb353451_0         473 KB\n",
      "    r-blob-1.1.1               |   r350h912f1d8_0          27 KB\n",
      "    r-cli-1.0.0                |   r350h912f1d8_0         323 KB\n",
      "    r-crayon-1.3.4             |   r350h912f1d8_0         745 KB\n",
      "    r-dbi-0.8                  |   r350h912f1d8_0         822 KB\n",
      "    r-dbplyr-1.2.1             |   r350h912f1d8_0         530 KB\n",
      "    r-digest-0.6.15            |   r350hb353451_0         149 KB\n",
      "    r-dplyr-0.7.4              |   r350hebe7666_0         1.7 MB\n",
      "    r-glue-1.2.0               |   r350hb353451_0          62 KB\n",
      "    r-magrittr-1.5             |   r350h912f1d8_4         165 KB\n",
      "    r-memoise-1.1.0            |   r350h912f1d8_0          40 KB\n",
      "    r-pillar-1.2.1             |   r350h912f1d8_0         143 KB\n",
      "    r-pkgconfig-2.0.1          |   r350h912f1d8_0          23 KB\n",
      "    r-plogr-0.2.0              |   r350h912f1d8_0          18 KB\n",
      "    r-prettyunits-1.0.2        |   r350h912f1d8_0          34 KB\n",
      "    r-purrr-0.2.4              |   r350hb353451_0         278 KB\n",
      "    r-r6-2.2.2                 |   r350h912f1d8_0         275 KB\n",
      "    r-rcpp-0.12.16             |   r350hebe7666_0         3.4 MB\n",
      "    r-rlang-0.2.0              |   r350hb353451_0         773 KB\n",
      "    r-rsqlite-2.1.0            |   r350hebe7666_0         986 KB\n",
      "    r-tibble-1.4.2             |   r350hb353451_0         228 KB\n",
      "    r-tidyselect-0.2.4         |   r350hebe7666_0         124 KB\n",
      "    r-utf8-1.1.3               |   r350hb353451_0         157 KB\n",
      "    rpy2-2.9.1                 |py37r350h035aef0_0         268 KB\n",
      "    six-1.12.0                 |           py37_0          22 KB\n",
      "    tktable-2.10               |       h14c3975_0          88 KB\n",
      "    ------------------------------------------------------------\n",
      "                                           Total:       182.4 MB\n",
      "\n",
      "The following NEW packages will be INSTALLED:\n",
      "\n",
      "  _r-mutex           pkgs/r/linux-64::_r-mutex-1.0.0-anacondar_1\n",
      "  binutils_impl_lin~ pkgs/main/linux-64::binutils_impl_linux-64-2.31.1-h6176602_1\n",
      "  binutils_linux-64  pkgs/main/linux-64::binutils_linux-64-2.31.1-h6176602_7\n",
      "  bwidget            pkgs/main/linux-64::bwidget-1.9.11-1\n",
      "  gcc_impl_linux-64  pkgs/main/linux-64::gcc_impl_linux-64-7.3.0-habb00fd_1\n",
      "  gcc_linux-64       pkgs/main/linux-64::gcc_linux-64-7.3.0-h553295d_7\n",
      "  gfortran_impl_lin~ pkgs/main/linux-64::gfortran_impl_linux-64-7.3.0-hdf63c60_1\n",
      "  gfortran_linux-64  pkgs/main/linux-64::gfortran_linux-64-7.3.0-h553295d_7\n",
      "  gsl                pkgs/main/linux-64::gsl-2.4-h14c3975_4\n",
      "  gxx_impl_linux-64  pkgs/main/linux-64::gxx_impl_linux-64-7.3.0-hdf63c60_1\n",
      "  gxx_linux-64       pkgs/main/linux-64::gxx_linux-64-7.3.0-h553295d_7\n",
      "  make               pkgs/main/linux-64::make-4.2.1-h1bed415_1\n",
      "  r-assertthat       pkgs/r/linux-64::r-assertthat-0.2.0-r350h912f1d8_0\n",
      "  r-base             pkgs/r/linux-64::r-base-3.5.0-h1e0a451_1\n",
      "  r-bh               pkgs/r/linux-64::r-bh-1.66.0_1-r350h912f1d8_0\n",
      "  r-bindr            pkgs/r/linux-64::r-bindr-0.1.1-r350h912f1d8_0\n",
      "  r-bindrcpp         pkgs/r/linux-64::r-bindrcpp-0.2.2-r350hebe7666_0\n",
      "  r-bit              pkgs/r/linux-64::r-bit-1.1_12-r350hb353451_0\n",
      "  r-bit64            pkgs/r/linux-64::r-bit64-0.9_7-r350hb353451_0\n",
      "  r-blob             pkgs/r/linux-64::r-blob-1.1.1-r350h912f1d8_0\n",
      "  r-cli              pkgs/r/linux-64::r-cli-1.0.0-r350h912f1d8_0\n",
      "  r-crayon           pkgs/r/linux-64::r-crayon-1.3.4-r350h912f1d8_0\n",
      "  r-dbi              pkgs/r/linux-64::r-dbi-0.8-r350h912f1d8_0\n",
      "  r-dbplyr           pkgs/r/linux-64::r-dbplyr-1.2.1-r350h912f1d8_0\n",
      "  r-digest           pkgs/r/linux-64::r-digest-0.6.15-r350hb353451_0\n",
      "  r-dplyr            pkgs/r/linux-64::r-dplyr-0.7.4-r350hebe7666_0\n",
      "  r-glue             pkgs/r/linux-64::r-glue-1.2.0-r350hb353451_0\n",
      "  r-magrittr         pkgs/r/linux-64::r-magrittr-1.5-r350h912f1d8_4\n",
      "  r-memoise          pkgs/r/linux-64::r-memoise-1.1.0-r350h912f1d8_0\n",
      "  r-pillar           pkgs/r/linux-64::r-pillar-1.2.1-r350h912f1d8_0\n",
      "  r-pkgconfig        pkgs/r/linux-64::r-pkgconfig-2.0.1-r350h912f1d8_0\n",
      "  r-plogr            pkgs/r/linux-64::r-plogr-0.2.0-r350h912f1d8_0\n",
      "  r-prettyunits      pkgs/r/linux-64::r-prettyunits-1.0.2-r350h912f1d8_0\n",
      "  r-purrr            pkgs/r/linux-64::r-purrr-0.2.4-r350hb353451_0\n",
      "  r-r6               pkgs/r/linux-64::r-r6-2.2.2-r350h912f1d8_0\n",
      "  r-rcpp             pkgs/r/linux-64::r-rcpp-0.12.16-r350hebe7666_0\n",
      "  r-rlang            pkgs/r/linux-64::r-rlang-0.2.0-r350hb353451_0\n",
      "  r-rsqlite          pkgs/r/linux-64::r-rsqlite-2.1.0-r350hebe7666_0\n",
      "  r-tibble           pkgs/r/linux-64::r-tibble-1.4.2-r350hb353451_0\n",
      "  r-tidyselect       pkgs/r/linux-64::r-tidyselect-0.2.4-r350hebe7666_0\n",
      "  r-utf8             pkgs/r/linux-64::r-utf8-1.1.3-r350hb353451_0\n",
      "  rpy2               pkgs/main/linux-64::rpy2-2.9.1-py37r350h035aef0_0\n",
      "  six                pkgs/main/linux-64::six-1.12.0-py37_0\n",
      "  tktable            pkgs/main/linux-64::tktable-2.10-h14c3975_0\n",
      "\n",
      "\n",
      "\n",
      "Downloading and Extracting Packages\n",
      "r-rlang-0.2.0        | 773 KB    | ##################################### | 100% \n",
      "r-magrittr-1.5       | 165 KB    | ##################################### | 100% \n",
      "r-tibble-1.4.2       | 228 KB    | ##################################### | 100% \n",
      "r-pkgconfig-2.0.1    | 23 KB     | ##################################### | 100% \n",
      "gsl-2.4              | 2.6 MB    | ##################################### | 100% \n",
      "make-4.2.1           | 429 KB    | ##################################### | 100% \n",
      "six-1.12.0           | 22 KB     | ##################################### | 100% \n",
      "binutils_linux-64-2. | 9 KB      | ##################################### | 100% \n",
      "r-rcpp-0.12.16       | 3.4 MB    | ##################################### | 100% \n",
      "tktable-2.10         | 88 KB     | ##################################### | 100% \n",
      "r-bh-1.66.0_1        | 10.0 MB   | ##################################### | 100% \n",
      "gcc_impl_linux-64-7. | 73.2 MB   | ##################################### | 100% \n",
      "r-bindrcpp-0.2.2     | 93 KB     | ##################################### | 100% \n",
      "r-glue-1.2.0         | 62 KB     | ##################################### | 100% \n",
      "r-pillar-1.2.1       | 143 KB    | ##################################### | 100% \n",
      "r-blob-1.1.1         | 27 KB     | ##################################### | 100% \n",
      "r-bit-1.1_12         | 228 KB    | ##################################### | 100% \n",
      "gxx_impl_linux-64-7. | 18.7 MB   | ##################################### | 100% \n",
      "r-utf8-1.1.3         | 157 KB    | ##################################### | 100% \n",
      "gfortran_linux-64-7. | 10 KB     | ##################################### | 100% \n",
      "r-bindr-0.1.1        | 20 KB     | ##################################### | 100% \n",
      "r-r6-2.2.2           | 275 KB    | ##################################### | 100% \n",
      "r-prettyunits-1.0.2  | 34 KB     | ##################################### | 100% \n",
      "_r-mutex-1.0.0       | 2 KB      | ##################################### | 100% \n",
      "r-tidyselect-0.2.4   | 124 KB    | ##################################### | 100% \n",
      "r-assertthat-0.2.0   | 57 KB     | ##################################### | 100% \n",
      "binutils_impl_linux- | 16.5 MB   | ##################################### | 100% \n",
      "bwidget-1.9.11       | 113 KB    | ##################################### | 100% \n",
      "r-base-3.5.0         | 39.8 MB   | ##################################### | 100% \n",
      "r-dbi-0.8            | 822 KB    | ##################################### | 100% \n",
      "gfortran_impl_linux- | 9.0 MB    | ##################################### | 100% \n",
      "r-bit64-0.9_7        | 473 KB    | ##################################### | 100% \n",
      "r-cli-1.0.0          | 323 KB    | ##################################### | 100% \n",
      "r-memoise-1.1.0      | 40 KB     | ##################################### | 100% \n",
      "r-dbplyr-1.2.1       | 530 KB    | ##################################### | 100% \n",
      "rpy2-2.9.1           | 268 KB    | ##################################### | 100% \n",
      "gcc_linux-64-7.3.0   | 10 KB     | ##################################### | 100% \n",
      "r-plogr-0.2.0        | 18 KB     | ##################################### | 100% \n",
      "r-dplyr-0.7.4        | 1.7 MB    | ##################################### | 100% \n",
      "r-digest-0.6.15      | 149 KB    | ##################################### | 100% \n",
      "r-purrr-0.2.4        | 278 KB    | ##################################### | 100% \n",
      "gxx_linux-64-7.3.0   | 10 KB     | ##################################### | 100% \n",
      "r-rsqlite-2.1.0      | 986 KB    | ##################################### | 100% \n",
      "r-crayon-1.3.4       | 745 KB    | ##################################### | 100% \n",
      "Preparing transaction: done\n",
      "Verifying transaction: done\n",
      "Executing transaction: done\n"
     ]
    }
   ],
   "source": [
    "!conda install -y rpy2"
   ]
  },
  {
   "cell_type": "markdown",
   "metadata": {},
   "source": [
    "**Load the R Extension for iPython**"
   ]
  },
  {
   "cell_type": "code",
   "execution_count": 3,
   "metadata": {},
   "outputs": [],
   "source": [
    "%load_ext rpy2.ipython"
   ]
  },
  {
   "cell_type": "markdown",
   "metadata": {},
   "source": [
    "**Keep Track of R Dependencies in Your Home Folder**"
   ]
  },
  {
   "cell_type": "code",
   "execution_count": 4,
   "metadata": {},
   "outputs": [],
   "source": [
    "!mkdir ~/libs"
   ]
  },
  {
   "cell_type": "code",
   "execution_count": 5,
   "metadata": {},
   "outputs": [
    {
     "name": "stderr",
     "output_type": "stream",
     "text": [
      "/opt/anaconda3/lib/python3.7/site-packages/rpy2/rinterface/__init__.py:145: RRuntimeWarning: also installing the dependencies ‘cli’, ‘fansi’, ‘pillar’, ‘pkgconfig’, ‘glue’, ‘Rcpp’, ‘rlang’, ‘tibble’, ‘tidyselect’\n",
      "\n",
      "\n",
      "  warnings.warn(x, RRuntimeWarning)\n"
     ]
    }
   ],
   "source": [
    "%%R\n",
    "options(repos = \"http://cran.rstudio.com/\")\n",
    ".libPaths(\"~/libs\")\n",
    "install.packages(\"dplyr\", quiet=TRUE)"
   ]
  },
  {
   "cell_type": "markdown",
   "metadata": {},
   "source": [
    "**Sample Data from BigQuery**"
   ]
  },
  {
   "cell_type": "code",
   "execution_count": 6,
   "metadata": {},
   "outputs": [],
   "source": [
    "%%bigquery babyweight\n",
    "SELECT \n",
    "  weight_pounds as y, \n",
    "  CASE \n",
    "    WHEN is_male = true THEN 1\n",
    "    WHEN is_male = false THEN 0\n",
    "    ELSE NULL \n",
    "    END as is_male, \n",
    "  child_race, \n",
    "  mother_age, \n",
    "  father_age,\n",
    "  gestation_weeks\n",
    "FROM `bigquery-public-data.samples.natality`\n",
    "WHERE weight_pounds IS NOT NULL AND RAND() < 0.0005"
   ]
  },
  {
   "cell_type": "code",
   "execution_count": 7,
   "metadata": {},
   "outputs": [
    {
     "data": {
      "text/plain": [
       "'data.frame':\t68852 obs. of  6 variables:\n",
       " $ y              : num  5.37 8.25 7.25 8 5.82 ...\n",
       " $ is_male        : int  1 1 1 1 0 1 0 1 1 0 ...\n",
       " $ child_race     : num  9 NaN NaN 1 9 1 9 2 2 2 ...\n",
       " $ mother_age     : int  42 42 41 14 47 14 41 14 14 14 ...\n",
       " $ father_age     : int  50 99 43 99 51 17 41 99 21 16 ...\n",
       " $ gestation_weeks: num  33 39 39 37 38 NaN 31 99 38 99 ...\n"
      ]
     },
     "metadata": {},
     "output_type": "display_data"
    }
   ],
   "source": [
    "%%R -i babyweight\n",
    "str(babyweight)"
   ]
  },
  {
   "cell_type": "markdown",
   "metadata": {},
   "source": [
    "**Fit a Linear Regression Model Using R**"
   ]
  },
  {
   "cell_type": "code",
   "execution_count": 8,
   "metadata": {},
   "outputs": [
    {
     "data": {
      "text/plain": [
       "\n",
       "Call:\n",
       "lm(formula = y ~ ., data = babyweight)\n",
       "\n",
       "Residuals:\n",
       "    Min      1Q  Median      3Q     Max \n",
       "-7.0538 -0.6765  0.0775  0.8105  5.7490 \n",
       "\n",
       "Coefficients:\n",
       "                  Estimate Std. Error t value Pr(>|t|)    \n",
       "(Intercept)      6.6897756  0.0346830 192.883  < 2e-16 ***\n",
       "is_male          0.2720881  0.0112151  24.261  < 2e-16 ***\n",
       "child_race      -0.0067374  0.0015120  -4.456 8.37e-06 ***\n",
       "mother_age       0.0197856  0.0009785  20.220  < 2e-16 ***\n",
       "father_age      -0.0053025  0.0002263 -23.427  < 2e-16 ***\n",
       "gestation_weeks  0.0052325  0.0003944  13.266  < 2e-16 ***\n",
       "---\n",
       "Signif. codes:  0 ‘***’ 0.001 ‘**’ 0.01 ‘*’ 0.05 ‘.’ 0.1 ‘ ’ 1\n",
       "\n",
       "Residual standard error: 1.303 on 54013 degrees of freedom\n",
       "  (14833 observations deleted due to missingness)\n",
       "Multiple R-squared:  0.03234,\tAdjusted R-squared:  0.03225 \n",
       "F-statistic:   361 on 5 and 54013 DF,  p-value: < 2.2e-16\n",
       "\n"
      ]
     },
     "metadata": {},
     "output_type": "display_data"
    }
   ],
   "source": [
    "%%R -i babyweight\n",
    "mod <- lm(y ~ ., data = babyweight)\n",
    "summary(mod)"
   ]
  },
  {
   "cell_type": "code",
   "execution_count": 9,
   "metadata": {},
   "outputs": [
    {
     "data": {
      "image/png": "[encoded data removed]"
     },
     "metadata": {},
     "output_type": "display_data"
    }
   ],
   "source": [
    "%%R \n",
    "n <- floor(rnorm(10000, 500, 100))\n",
    "t <- table(n)\n",
    "barplot(t)"
   ]
  }
 ],
 "metadata": {
  "kernelspec": {
   "display_name": "Python 3",
   "language": "python",
   "name": "python3"
  },
  "language_info": {
   "codemirror_mode": {
    "name": "ipython",
    "version": 3
   },
   "file_extension": ".py",
   "mimetype": "text/x-python",
   "name": "python",
   "nbconvert_exporter": "python",
   "pygments_lexer": "ipython3",
   "version": "3.7.3"
  }
 },
 "nbformat": 4,
 "nbformat_minor": 2
}
