{
 "cells": [
  {
   "cell_type": "code",
   "execution_count": 1,
   "metadata": {},
   "outputs": [],
   "source": [
    "from google.cloud import bigquery"
   ]
  },
  {
   "cell_type": "code",
   "execution_count": 2,
   "metadata": {},
   "outputs": [],
   "source": [
    "project_id = 'ofm-datascience'"
   ]
  },
  {
   "cell_type": "code",
   "execution_count": 3,
   "metadata": {},
   "outputs": [],
   "source": [
    "client = bigquery.Client(project=project_id)"
   ]
  },
  {
   "cell_type": "code",
   "execution_count": 4,
   "metadata": {},
   "outputs": [],
   "source": [
    "query_job = client.query(\"\"\"\n",
    "  SELECT *\n",
    "  FROM `auto-151812.data_science.BDD_Visite`\n",
    "  LIMIT 10\"\"\")"
   ]
  },
  {
   "cell_type": "code",
   "execution_count": 5,
   "metadata": {},
   "outputs": [],
   "source": [
    "results = query_job.result() "
   ]
  },
  {
   "cell_type": "code",
   "execution_count": 6,
   "metadata": {},
   "outputs": [
    {
     "name": "stdout",
     "output_type": "stream",
     "text": [
      "1973840127451956106 | 20161118 | /stats_contacts/moto/professionnel/email/06?virtual:/stats_contacts/moto/professionnel/email/06=\n",
      "6296753697610303076 | 20161119 | /stats_contacts/moto/professionnel/email/06?virtual:/stats_contacts/moto/professionnel/email/06=\n",
      "1521940951505106627 | 20160724 | /stats_contacts/moto/professionnel/email/14?virtual:/stats_contacts/moto/professionnel/email/14=\n",
      "7046143955093277407 | 20160728 | /stats_contacts/moto/professionnel/email/14?virtual:/stats_contacts/moto/professionnel/email/14=\n",
      "7046143955093277407 | 20160728 | /stats_contacts/moto/professionnel/email/14?virtual:/stats_contacts/moto/professionnel/email/14=\n",
      "7434747875870226243 | 20160912 | /stats_contacts/moto/professionnel/email/14?virtual:/stats_contacts/moto/professionnel/email/14=\n",
      "458181567810353729 | 20161007 | /stats_contacts/moto/professionnel/email/14?virtual:/stats_contacts/moto/professionnel/email/14=\n",
      "1973840127451956106 | 20161118 | /stats_contacts/moto/professionnel/email/14?virtual:/stats_contacts/moto/professionnel/email/14=\n",
      "1973840127451956106 | 20161118 | /stats_contacts/moto/professionnel/email/14?virtual:/stats_contacts/moto/professionnel/email/14=\n",
      "5311679119788530461 | 20160915 | /stats_contacts/moto/professionnel/email/35?virtual:/stats_contacts/moto/professionnel/email/35=\n"
     ]
    }
   ],
   "source": [
    "for row in results:\n",
    "   print(\"{} | {} | {}\".format(row[0], row[1], row[2]))"
   ]
  },
  {
   "cell_type": "code",
   "execution_count": 9,
   "metadata": {},
   "outputs": [],
   "source": [
    "%%bigquery babyweight\n",
    "SELECT \n",
    "  weight_pounds as y, \n",
    "  CASE \n",
    "    WHEN is_male = true THEN 1\n",
    "    WHEN is_male = false THEN 0\n",
    "    ELSE NULL \n",
    "    END as is_male, \n",
    "  child_race, \n",
    "  mother_age, \n",
    "  father_age,\n",
    "  gestation_weeks\n",
    "FROM `bigquery-public-data.samples.natality`\n",
    "WHERE weight_pounds IS NOT NULL AND RAND() < 0.0005"
   ]
  },
  {
   "cell_type": "code",
   "execution_count": 12,
   "metadata": {},
   "outputs": [
    {
     "name": "stdout",
     "output_type": "stream",
     "text": [
      "               y  is_male  child_race  mother_age  father_age  gestation_weeks\n",
      "0       7.561856        1         1.0          43          44             41.0\n",
      "1       5.813590        1         1.0          14          17             36.0\n",
      "2       8.377566        1         9.0          42          40             40.0\n",
      "3       4.673800        1         NaN          47          44             34.0\n",
      "4       7.716179        1         2.0          14          17             35.0\n",
      "5       7.374463        0         1.0          14          99             35.0\n",
      "6       7.187070        0         9.0          14          99             42.0\n",
      "7       6.686620        1         1.0          14          99             38.0\n",
      "8       6.084758        1         1.0          42          29             37.0\n",
      "9       7.125340        0         1.0          43          51              NaN\n",
      "10      9.186662        1         1.0          43          45             99.0\n",
      "11      6.999677        0         1.0          41          41             39.0\n",
      "12      4.874421        1         2.0          43          99             99.0\n",
      "13      5.687926        0         1.0          45          99             40.0\n",
      "14      6.876218        0         9.0          43          39             41.0\n",
      "15      6.007597        0         9.0          41          41             39.0\n",
      "16      2.480200        1         9.0          13          99             31.0\n",
      "17      2.500042        1         2.0          13          99             99.0\n",
      "18      7.125340        1         9.0          14          99             32.0\n",
      "19      5.368256        0         NaN          43          38             41.0\n",
      "20      8.212219        0         NaN          42          44             39.0\n",
      "21      7.374463        1         1.0          41          39             40.0\n",
      "22      8.633302        0         9.0          42          49             39.0\n",
      "23     10.028828        0         NaN          41          39             41.0\n",
      "24      7.687519        0         1.0          42          44             40.0\n",
      "25      8.126239        1         NaN          42          40             37.0\n",
      "26      5.511557        0         NaN          42          99             37.0\n",
      "27      6.686620        1         1.0          41          34              NaN\n",
      "28      8.875811        0         2.0          41          50             37.0\n",
      "29      5.436599        0         9.0          14          99             37.0\n",
      "...          ...      ...         ...         ...         ...              ...\n",
      "68848   7.687519        1         1.0          40          43             40.0\n",
      "68849   8.375361        1         1.0          40          41             40.0\n",
      "68850   5.760679        1         NaN          40          40             37.0\n",
      "68851   8.126239        1         1.0          40          42             37.0\n",
      "68852   4.927332        1         9.0          40          47             44.0\n",
      "68853   8.000575        0         9.0          40          45             39.0\n",
      "68854   7.874912        1         1.0          40          40             99.0\n",
      "68855   9.124933        0         NaN          40          46             38.0\n",
      "68856   8.937540        0         9.0          40          40             41.0\n",
      "68857   8.492206        0         NaN          40          36             38.0\n",
      "68858   7.312733        1         9.0          40          43             39.0\n",
      "68859   6.124442        0         NaN          40          38             36.0\n",
      "68860  10.313225        0         1.0          40          40             40.0\n",
      "68861   8.624484        0         NaN          40          31             43.0\n",
      "68862   8.124034        1         NaN          40          59             40.0\n",
      "68863   4.499635        1         NaN          40          39             33.0\n",
      "68864   7.063611        0         1.0          40          44             39.0\n",
      "68865   7.874912        0         NaN          40          48             40.0\n",
      "68866   9.250597        1         1.0          40          39             99.0\n",
      "68867   7.500126        1         9.0          40          34             39.0\n",
      "68868   6.933538        1         NaN          40          47             37.0\n",
      "68869   6.691030        0         NaN          40          99             39.0\n",
      "68870   3.313548        0         1.0          40          99             32.0\n",
      "68871   7.874912        0         1.0          40          32             40.0\n",
      "68872   7.374463        1         9.0          40          39             37.0\n",
      "68873   6.375769        1         9.0          40          99             40.0\n",
      "68874   6.437498        1         9.0          40          39             41.0\n",
      "68875   8.562754        0         9.0          40          38             38.0\n",
      "68876   7.374463        1         2.0          40          40             41.0\n",
      "68877   8.375361        1         2.0          40          43              NaN\n",
      "\n",
      "[68878 rows x 6 columns]\n"
     ]
    }
   ],
   "source": [
    "print (babyweight)"
   ]
  }
 ],
 "metadata": {
  "kernelspec": {
   "display_name": "Python 3",
   "language": "python",
   "name": "python3"
  },
  "language_info": {
   "codemirror_mode": {
    "name": "ipython",
    "version": 3
   },
   "file_extension": ".py",
   "mimetype": "text/x-python",
   "name": "python",
   "nbconvert_exporter": "python",
   "pygments_lexer": "ipython3",
   "version": "3.7.3"
  }
 },
 "nbformat": 4,
 "nbformat_minor": 2
}
